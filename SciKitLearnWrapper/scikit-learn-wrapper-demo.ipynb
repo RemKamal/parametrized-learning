{
 "cells": [
  {
   "cell_type": "markdown",
   "metadata": {},
   "source": [
    "An example of embedding a scikit-learn classifier in a RooAbsReal\n",
    "by Kyle Cranmer\n",
    "\n",
    "see:\n",
    "https://github.com/cranmer/parametrized-learning/tree/master/SciKitLearnWrapper\n",
    "for the c++ code, Makefile, and pkl file used here\n",
    "\n",
    "see also a standalone version:\n",
    "https://github.com/cranmer/roofit-python-wrapper"
   ]
  },
  {
   "cell_type": "code",
   "execution_count": 1,
   "metadata": {
    "collapsed": false
   },
   "outputs": [
    {
     "data": {
      "application/javascript": [
       "require(['codemirror/mode/clike/clike'], function(Clike) { console.log('ROOTaaS - C++ CodeMirror module loaded'); });"
      ]
     },
     "metadata": {},
     "output_type": "display_data"
    },
    {
     "data": {
      "application/javascript": [
       "IPython.CodeCell.config_defaults.highlight_modes['magic_text/x-c++src'] = {'reg':[/^%%cpp/]};"
      ]
     },
     "metadata": {},
     "output_type": "display_data"
    },
    {
     "name": "stderr",
     "output_type": "stream",
     "text": [
      "/Users/cranmer/projects/roostats/root-v5-34/lib/ROOT.py:301: UserWarning: Module readline was already imported from /System/Library/Frameworks/Python.framework/Versions/2.7/lib/python2.7/lib-dynload/readline.so, but /Library/Python/2.7/site-packages is being added to sys.path\n",
      "  return _orig_ihook( name, *args, **kwds )\n"
     ]
    },
    {
     "name": "stdout",
     "output_type": "stream",
     "text": [
      "Welcome to ROOTaaS 6.05/03\n",
      "\r\n",
      "\u001b[1mRooFit v3.60 -- Developed by Wouter Verkerke and David Kirkby\u001b[0m \r\n",
      "                Copyright (C) 2000-2013 NIKHEF, University of California & Stanford University\r\n",
      "                All rights reserved, please read http://roofit.sourceforge.net/license.txt\r\n",
      "\r\n"
     ]
    }
   ],
   "source": [
    "from ROOT import TCanvas, gSystem, RooRealVar\n",
    "from ROOT import RooFit\n",
    "import ROOT\n",
    "\n",
    "\n",
    "import numpy as np\n",
    "from sklearn import svm\n",
    "from sklearn.externals import joblib"
   ]
  },
  {
   "cell_type": "code",
   "execution_count": 2,
   "metadata": {
    "collapsed": false
   },
   "outputs": [
    {
     "data": {
      "image/png": "[encoded data removed]",
      "text/plain": [
       "<IPython.core.display.Image object>"
      ]
     },
     "metadata": {},
     "output_type": "display_data"
    }
   ],
   "source": [
    "def scikitlearnFunc(x=0.):\n",
    "    clf = joblib.load('../adaptive.pkl') \n",
    "    traindata = np.array((x,0.))\n",
    "    outputs=clf.predict(traindata)\n",
    "    return outputs[0]\n",
    "\n",
    "def scikitlearnTest():\n",
    "    gSystem.Load( 'libSciKitLearnWrapper' )\t\n",
    "    x = RooRealVar('x','x',0.2,-5,5)\t\n",
    "    s = ROOT.SciKitLearnWrapper('s','s',x)\n",
    "    s.RegisterCallBack( scikitlearnFunc );\n",
    "\n",
    "    c1 = TCanvas('c1')\n",
    "    frame = x.frame()\n",
    "    s.plotOn(frame)\n",
    "    frame.Draw()\n",
    "    #c1.SaveAs('scikitlearn-wrapper-plot.pdf')\n",
    "    c1.Draw()\n",
    "\n",
    "if __name__ == '__main__':\n",
    "    scikitlearnTest()"
   ]
  },
  {
   "cell_type": "code",
   "execution_count": null,
   "metadata": {
    "collapsed": true
   },
   "outputs": [],
   "source": []
  }
 ],
 "metadata": {
  "kernelspec": {
   "display_name": "Python 2",
   "language": "python",
   "name": "python2"
  },
  "language_info": {
   "codemirror_mode": {
    "name": "ipython",
    "version": 2
   },
   "file_extension": ".py",
   "mimetype": "text/x-python",
   "name": "python",
   "nbconvert_exporter": "python",
   "pygments_lexer": "ipython2",
   "version": "2.7.10"
  }
 },
 "nbformat": 4,
 "nbformat_minor": 0
}
