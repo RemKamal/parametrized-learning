{
 "cells": [
  {
   "cell_type": "code",
   "execution_count": 1,
   "metadata": {
    "collapsed": false
   },
   "outputs": [
    {
     "name": "stdout",
     "output_type": "stream",
     "text": [
      "Populating the interactive namespace from numpy and matplotlib\n"
     ]
    }
   ],
   "source": [
    "%pylab inline --no-import-all"
   ]
  },
  {
   "cell_type": "code",
   "execution_count": 34,
   "metadata": {
    "collapsed": false
   },
   "outputs": [],
   "source": [
    "def getWeights(g_1=1.,g_2=1.5):\n",
    "    #Set the basis\n",
    "    basis_g1 = np.array((0.,1.,1.,1.,1.))\n",
    "    basis_g2 = np.array((1.,0.,1.,2.,3.))\n",
    "    \n",
    "    #define the formulae\n",
    "    g1_t4 = lambda x,y: x*x*x*x + 0*y\n",
    "    g1_t2_g2_t2  = lambda x,y: x*x*y*y\n",
    "    g1_t3_g2 = lambda x,y: x*x*x*y\n",
    "    g1_g2_t3 = lambda x,y: y*y*y*x\n",
    "    g2_t4 = lambda x,y: y*y*y*y + 0*x\n",
    "\n",
    "    a = np.zeros((5,5))\n",
    "\n",
    "    for i in range(5):\n",
    "        a[0,i] = g1_t4(basis_g1[i],basis_g2[i])\n",
    "        a[2,i] = g1_t2_g2_t2(basis_g1[i],basis_g2[i])\n",
    "        a[1,i] = g1_t3_g2(basis_g1[i],basis_g2[i])\n",
    "        a[3,i] = g1_g2_t3(basis_g1[i],basis_g2[i])\n",
    "        a[4,i] = g2_t4(basis_g1[i],basis_g2[i])\n",
    "\n",
    "    print a\n",
    "    \n",
    "    b = np.linalg.inv(a)\n",
    "    print b\n",
    "    \n",
    "    weight = np.zeros(5)\n",
    "    #identify the weight\n",
    "\n",
    "    for j in range(5):\n",
    "        weight[j] = b[j,0]*g1_t4(g_1,g_2) + b[j,1]*g1_t3_g2(g_1,g_2) + b[j,2]*g1_t2_g2_t2(g_1,g_2) + b[j,3]*g1_g2_t3(g_1,g_2) + b[j,4]*g2_t4(g_1,g_2) \n",
    "\n",
    "    return weight\n"
   ]
  },
  {
   "cell_type": "code",
   "execution_count": 35,
   "metadata": {
    "collapsed": false
   },
   "outputs": [
    {
     "name": "stdout",
     "output_type": "stream",
     "text": [
      "[[  0.   1.   1.   1.   1.]\n",
      " [  0.   0.   1.   2.   3.]\n",
      " [  0.   0.   1.   4.   9.]\n",
      " [  0.   0.   1.   8.  27.]\n",
      " [  1.   0.   1.  16.  81.]]\n",
      "[[  0.          -6.          11.          -6.           1.        ]\n",
      " [  1.          -1.83333333   1.          -0.16666667   0.        ]\n",
      " [  0.           3.          -2.5          0.5          0.        ]\n",
      " [  0.          -1.5          2.          -0.5          0.        ]\n",
      " [  0.           0.33333333  -0.5          0.16666667   0.        ]]\n"
     ]
    },
    {
     "data": {
      "text/plain": [
       "array([ 0.5625, -0.0625,  0.5625,  0.5625, -0.0625])"
      ]
     },
     "execution_count": 35,
     "metadata": {},
     "output_type": "execute_result"
    }
   ],
   "source": [
    "getWeights()"
   ]
  },
  {
   "cell_type": "code",
   "execution_count": 23,
   "metadata": {
    "collapsed": false
   },
   "outputs": [
    {
     "data": {
      "text/plain": [
       "array([[ 0.,  0.,  0.,  0.,  0.],\n",
       "       [ 0.,  0.,  0.,  0.,  0.],\n",
       "       [ 0.,  0.,  0.,  0.,  0.],\n",
       "       [ 0.,  0.,  0.,  0.,  0.],\n",
       "       [ 0.,  0.,  0.,  0.,  0.]])"
      ]
     },
     "execution_count": 23,
     "metadata": {},
     "output_type": "execute_result"
    }
   ],
   "source": []
  },
  {
   "cell_type": "code",
   "execution_count": null,
   "metadata": {
    "collapsed": true
   },
   "outputs": [],
   "source": []
  }
 ],
 "metadata": {
  "kernelspec": {
   "display_name": "Python 2",
   "language": "python",
   "name": "python2"
  },
  "language_info": {
   "codemirror_mode": {
    "name": "ipython",
    "version": 2
   },
   "file_extension": ".py",
   "mimetype": "text/x-python",
   "name": "python",
   "nbconvert_exporter": "python",
   "pygments_lexer": "ipython2",
   "version": "2.7.6"
  }
 },
 "nbformat": 4,
 "nbformat_minor": 0
}
